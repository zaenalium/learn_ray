{
 "cells": [
  {
   "cell_type": "code",
   "execution_count": 1,
   "id": "fc3069bf-2555-4880-88c6-c41e767f8580",
   "metadata": {},
   "outputs": [],
   "source": [
    "import ray"
   ]
  },
  {
   "cell_type": "code",
   "execution_count": 2,
   "id": "24f948d6-b8a4-41a6-ac04-399ee434ffea",
   "metadata": {},
   "outputs": [
    {
     "name": "stderr",
     "output_type": "stream",
     "text": [
      "2024-12-26 16:05:03,829\tINFO worker.py:1636 -- Connecting to existing Ray cluster at address: 10.128.0.31:6379...\n",
      "2024-12-26 16:05:04,234\tINFO worker.py:1812 -- Connected to Ray cluster. View the dashboard at \u001b[1m\u001b[32mhttp://127.0.0.1:8265 \u001b[39m\u001b[22m\n"
     ]
    },
    {
     "data": {
      "application/vnd.jupyter.widget-view+json": {
       "model_id": "46c5210dd38e4f00b246e5a52a457479",
       "version_major": 2,
       "version_minor": 0
      },
      "text/html": [
       "<div class=\"lm-Widget p-Widget lm-Panel p-Panel jp-Cell-outputWrapper\">\n",
       "    <div style=\"margin-left: 50px;display: flex;flex-direction: row;align-items: center\">\n",
       "        <div class=\"jp-RenderedHTMLCommon\" style=\"display: flex; flex-direction: row;\">\n",
       "  <svg viewBox=\"0 0 567 224\" fill=\"none\" xmlns=\"http://www.w3.org/2000/svg\" style=\"height: 3em;\">\n",
       "    <g clip-path=\"url(#clip0_4338_178347)\">\n",
       "        <path d=\"M341.29 165.561H355.29L330.13 129.051C345.63 123.991 354.21 112.051 354.21 94.2307C354.21 71.3707 338.72 58.1807 311.88 58.1807H271V165.561H283.27V131.661H311.8C314.25 131.661 316.71 131.501 319.01 131.351L341.25 165.561H341.29ZM283.29 119.851V70.0007H311.82C331.3 70.0007 342.34 78.2907 342.34 94.5507C342.34 111.271 331.34 119.861 311.82 119.861L283.29 119.851ZM451.4 138.411L463.4 165.561H476.74L428.74 58.1807H416L367.83 165.561H380.83L392.83 138.411H451.4ZM446.19 126.601H398L422 72.1407L446.24 126.601H446.19ZM526.11 128.741L566.91 58.1807H554.35L519.99 114.181L485.17 58.1807H472.44L514.01 129.181V165.541H526.13V128.741H526.11Z\" fill=\"var(--jp-ui-font-color0)\"/>\n",
       "        <path d=\"M82.35 104.44C84.0187 97.8827 87.8248 92.0678 93.1671 87.9146C98.5094 83.7614 105.083 81.5067 111.85 81.5067C118.617 81.5067 125.191 83.7614 130.533 87.9146C135.875 92.0678 139.681 97.8827 141.35 104.44H163.75C164.476 101.562 165.622 98.8057 167.15 96.2605L127.45 56.5605C121.071 60.3522 113.526 61.6823 106.235 60.3005C98.9443 58.9187 92.4094 54.9203 87.8602 49.0574C83.3109 43.1946 81.0609 35.8714 81.5332 28.4656C82.0056 21.0599 85.1679 14.0819 90.4252 8.8446C95.6824 3.60726 102.672 0.471508 110.08 0.0272655C117.487 -0.416977 124.802 1.86091 130.647 6.4324C136.493 11.0039 140.467 17.5539 141.821 24.8501C143.175 32.1463 141.816 39.6859 138 46.0505L177.69 85.7505C182.31 82.9877 187.58 81.4995 192.962 81.4375C198.345 81.3755 203.648 82.742 208.33 85.3976C213.012 88.0532 216.907 91.9029 219.616 96.5544C222.326 101.206 223.753 106.492 223.753 111.875C223.753 117.258 222.326 122.545 219.616 127.197C216.907 131.848 213.012 135.698 208.33 138.353C203.648 141.009 198.345 142.375 192.962 142.313C187.58 142.251 182.31 140.763 177.69 138L138 177.7C141.808 184.071 143.155 191.614 141.79 198.91C140.424 206.205 136.44 212.75 130.585 217.313C124.731 221.875 117.412 224.141 110.004 223.683C102.596 223.226 95.6103 220.077 90.3621 214.828C85.1139 209.58 81.9647 202.595 81.5072 195.187C81.0497 187.779 83.3154 180.459 87.878 174.605C92.4405 168.751 98.9853 164.766 106.281 163.401C113.576 162.035 121.119 163.383 127.49 167.19L167.19 127.49C165.664 124.941 164.518 122.182 163.79 119.3H141.39C139.721 125.858 135.915 131.673 130.573 135.826C125.231 139.98 118.657 142.234 111.89 142.234C105.123 142.234 98.5494 139.98 93.2071 135.826C87.8648 131.673 84.0587 125.858 82.39 119.3H60C58.1878 126.495 53.8086 132.78 47.6863 136.971C41.5641 141.163 34.1211 142.972 26.7579 142.059C19.3947 141.146 12.6191 137.574 7.70605 132.014C2.79302 126.454 0.0813599 119.29 0.0813599 111.87C0.0813599 104.451 2.79302 97.2871 7.70605 91.7272C12.6191 86.1673 19.3947 82.5947 26.7579 81.6817C34.1211 80.7686 41.5641 82.5781 47.6863 86.7696C53.8086 90.9611 58.1878 97.2456 60 104.44H82.35ZM100.86 204.32C103.407 206.868 106.759 208.453 110.345 208.806C113.93 209.159 117.527 208.258 120.522 206.256C123.517 204.254 125.725 201.276 126.771 197.828C127.816 194.38 127.633 190.677 126.253 187.349C124.874 184.021 122.383 181.274 119.205 179.577C116.027 177.88 112.359 177.337 108.826 178.042C105.293 178.746 102.113 180.654 99.8291 183.44C97.5451 186.226 96.2979 189.718 96.3 193.32C96.2985 195.364 96.7006 197.388 97.4831 199.275C98.2656 201.163 99.4132 202.877 100.86 204.32ZM204.32 122.88C206.868 120.333 208.453 116.981 208.806 113.396C209.159 109.811 208.258 106.214 206.256 103.219C204.254 100.223 201.275 98.0151 197.827 96.97C194.38 95.9249 190.676 96.1077 187.348 97.4873C184.02 98.8669 181.274 101.358 179.577 104.536C177.879 107.714 177.337 111.382 178.041 114.915C178.746 118.448 180.653 121.627 183.439 123.911C186.226 126.195 189.717 127.443 193.32 127.44C195.364 127.443 197.388 127.042 199.275 126.259C201.163 125.476 202.878 124.328 204.32 122.88ZM122.88 19.4205C120.333 16.8729 116.981 15.2876 113.395 14.9347C109.81 14.5817 106.213 15.483 103.218 17.4849C100.223 19.4868 98.0146 22.4654 96.9696 25.9131C95.9245 29.3608 96.1073 33.0642 97.4869 36.3922C98.8665 39.7202 101.358 42.4668 104.535 44.1639C107.713 45.861 111.381 46.4036 114.914 45.6992C118.447 44.9949 121.627 43.0871 123.911 40.301C126.195 37.515 127.442 34.0231 127.44 30.4205C127.44 28.3772 127.038 26.3539 126.255 24.4664C125.473 22.5788 124.326 20.8642 122.88 19.4205ZM19.42 100.86C16.8725 103.408 15.2872 106.76 14.9342 110.345C14.5813 113.93 15.4826 117.527 17.4844 120.522C19.4863 123.518 22.4649 125.726 25.9127 126.771C29.3604 127.816 33.0638 127.633 36.3918 126.254C39.7198 124.874 42.4664 122.383 44.1635 119.205C45.8606 116.027 46.4032 112.359 45.6988 108.826C44.9944 105.293 43.0866 102.114 40.3006 99.8296C37.5145 97.5455 34.0227 96.2983 30.42 96.3005C26.2938 96.3018 22.337 97.9421 19.42 100.86ZM100.86 100.86C98.3125 103.408 96.7272 106.76 96.3742 110.345C96.0213 113.93 96.9226 117.527 98.9244 120.522C100.926 123.518 103.905 125.726 107.353 126.771C110.8 127.816 114.504 127.633 117.832 126.254C121.16 124.874 123.906 122.383 125.604 119.205C127.301 116.027 127.843 112.359 127.139 108.826C126.434 105.293 124.527 102.114 121.741 99.8296C118.955 97.5455 115.463 96.2983 111.86 96.3005C109.817 96.299 107.793 96.701 105.905 97.4835C104.018 98.2661 102.303 99.4136 100.86 100.86Z\" fill=\"#00AEEF\"/>\n",
       "    </g>\n",
       "    <defs>\n",
       "        <clipPath id=\"clip0_4338_178347\">\n",
       "            <rect width=\"566.93\" height=\"223.75\" fill=\"white\"/>\n",
       "        </clipPath>\n",
       "    </defs>\n",
       "  </svg>\n",
       "</div>\n",
       "\n",
       "        <table class=\"jp-RenderedHTMLCommon\" style=\"border-collapse: collapse;color: var(--jp-ui-font-color1);font-size: var(--jp-ui-font-size1);\">\n",
       "    <tr>\n",
       "        <td style=\"text-align: left\"><b>Python version:</b></td>\n",
       "        <td style=\"text-align: left\"><b>3.12.8</b></td>\n",
       "    </tr>\n",
       "    <tr>\n",
       "        <td style=\"text-align: left\"><b>Ray version:</b></td>\n",
       "        <td style=\"text-align: left\"><b>2.40.0</b></td>\n",
       "    </tr>\n",
       "    <tr>\n",
       "    <td style=\"text-align: left\"><b>Dashboard:</b></td>\n",
       "    <td style=\"text-align: left\"><b><a href=\"http://127.0.0.1:8265\" target=\"_blank\">http://127.0.0.1:8265</a></b></td>\n",
       "</tr>\n",
       "\n",
       "</table>\n",
       "\n",
       "    </div>\n",
       "</div>\n"
      ],
      "text/plain": [
       "RayContext(dashboard_url='127.0.0.1:8265', python_version='3.12.8', ray_version='2.40.0', ray_commit='22541c38dbef25286cd6d19f1c151bf4fd62f2ed')"
      ]
     },
     "execution_count": 2,
     "metadata": {},
     "output_type": "execute_result"
    },
    {
     "name": "stderr",
     "output_type": "stream",
     "text": [
      "\u001b[36m(remote_exec_func pid=155400)\u001b[0m FutureWarning: The 'axis' keyword in DataFrame.groupby is deprecated and will be removed in a future version.\n",
      "\u001b[36m(remote_exec_func pid=155400)\u001b[0m FutureWarning: The 'axis' keyword in DataFrame.groupby is deprecated and will be removed in a future version.\n",
      "\u001b[36m(remote_exec_func pid=155400)\u001b[0m FutureWarning: The 'axis' keyword in DataFrame.groupby is deprecated and will be removed in a future version.\n",
      "\u001b[36m(remote_exec_func pid=155400)\u001b[0m FutureWarning: The 'axis' keyword in DataFrame.groupby is deprecated and will be removed in a future version.\n",
      "\u001b[36m(remote_exec_func pid=155400)\u001b[0m FutureWarning: The 'axis' keyword in DataFrame.groupby is deprecated and will be removed in a future version.\n",
      "\u001b[36m(remote_exec_func pid=155400)\u001b[0m FutureWarning: The 'axis' keyword in DataFrame.groupby is deprecated and will be removed in a future version.\n",
      "\u001b[36m(remote_exec_func pid=155400)\u001b[0m FutureWarning: The 'axis' keyword in DataFrame.groupby is deprecated and will be removed in a future version.\n",
      "\u001b[36m(remote_exec_func pid=155400)\u001b[0m FutureWarning: The 'axis' keyword in DataFrame.groupby is deprecated and will be removed in a future version.\n",
      "\u001b[36m(remote_exec_func pid=155400)\u001b[0m FutureWarning: The 'axis' keyword in DataFrame.groupby is deprecated and will be removed in a future version.\n",
      "\u001b[36m(remote_exec_func pid=155400)\u001b[0m FutureWarning: The 'axis' keyword in DataFrame.groupby is deprecated and will be removed in a future version.\n",
      "\u001b[36m(remote_exec_func pid=155400)\u001b[0m FutureWarning: The 'axis' keyword in DataFrame.groupby is deprecated and will be removed in a future version.\n",
      "\u001b[36m(train_wholesale_customer pid=165851)\u001b[0m [17:30:16] WARNING: /workspace/src/learner.cc:740: \n",
      "\u001b[36m(train_wholesale_customer pid=165851)\u001b[0m Parameters: { \"n_estimators\" } are not used.\n",
      "\u001b[36m(train_wholesale_customer pid=165851)\u001b[0m \n",
      "\u001b[36m(train_wholesale_customer pid=165932)\u001b[0m \n",
      "\u001b[36m(train_wholesale_customer pid=165932)\u001b[0m [17:30:22] WARNING: /workspace/src/learner.cc:740: \n",
      "\u001b[36m(train_wholesale_customer pid=165932)\u001b[0m Parameters: { \"n_estimators\" } are not used.\n",
      "\u001b[36m(train_wholesale_customer pid=165998)\u001b[0m [17:30:27] WARNING: /workspace/src/learner.cc:740: \n",
      "\u001b[36m(train_wholesale_customer pid=165998)\u001b[0m Parameters: { \"n_estimators\" } are not used.\n",
      "\u001b[36m(train_wholesale_customer pid=165998)\u001b[0m \n",
      "\u001b[36m(train_wholesale_customer pid=166064)\u001b[0m \n",
      "\u001b[36m(train_wholesale_customer pid=166064)\u001b[0m [17:30:33] WARNING: /workspace/src/learner.cc:740: \n",
      "\u001b[36m(train_wholesale_customer pid=166064)\u001b[0m Parameters: { \"n_estimators\" } are not used.\n",
      "\u001b[36m(train_wholesale_customer pid=166134)\u001b[0m [17:30:41] WARNING: /workspace/src/learner.cc:740: \n",
      "\u001b[36m(train_wholesale_customer pid=166134)\u001b[0m Parameters: { \"n_estimators\" } are not used.\n",
      "\u001b[36m(train_wholesale_customer pid=166134)\u001b[0m \n",
      "\u001b[36m(train_wholesale_customer pid=166664)\u001b[0m \n",
      "\u001b[36m(train_wholesale_customer pid=166664)\u001b[0m [17:30:49] WARNING: /workspace/src/learner.cc:740: \n",
      "\u001b[36m(train_wholesale_customer pid=166664)\u001b[0m Parameters: { \"n_estimators\" } are not used.\n",
      "\u001b[36m(train_wholesale_customer pid=166744)\u001b[0m [17:30:57] WARNING: /workspace/src/learner.cc:740: \n",
      "\u001b[36m(train_wholesale_customer pid=166744)\u001b[0m Parameters: { \"n_estimators\" } are not used.\n",
      "\u001b[36m(train_wholesale_customer pid=166744)\u001b[0m \n",
      "\u001b[36m(train_wholesale_customer pid=166815)\u001b[0m \n",
      "\u001b[36m(train_wholesale_customer pid=166815)\u001b[0m [17:31:03] WARNING: /workspace/src/learner.cc:740: \n",
      "\u001b[36m(train_wholesale_customer pid=166815)\u001b[0m Parameters: { \"n_estimators\" } are not used.\n",
      "\u001b[36m(train_wholesale_customer pid=166887)\u001b[0m [17:31:09] WARNING: /workspace/src/learner.cc:740: \n",
      "\u001b[36m(train_wholesale_customer pid=166887)\u001b[0m Parameters: { \"n_estimators\" } are not used.\n",
      "\u001b[36m(train_wholesale_customer pid=166887)\u001b[0m \n",
      "\u001b[36m(train_wholesale_customer pid=166956)\u001b[0m \n",
      "\u001b[36m(train_wholesale_customer pid=166956)\u001b[0m [17:31:15] WARNING: /workspace/src/learner.cc:740: \n",
      "\u001b[36m(train_wholesale_customer pid=166956)\u001b[0m Parameters: { \"n_estimators\" } are not used.\n"
     ]
    }
   ],
   "source": [
    "ray.init()"
   ]
  },
  {
   "cell_type": "code",
   "execution_count": 3,
   "id": "1cbb848c-44f2-4094-be8f-f72163765136",
   "metadata": {},
   "outputs": [
    {
     "name": "stdout",
     "output_type": "stream",
     "text": [
      "Requirement already satisfied: ucimlrepo in /home/zaenal/miniconda3/lib/python3.12/site-packages (0.0.7)\n",
      "Requirement already satisfied: pandas>=1.0.0 in /home/zaenal/miniconda3/lib/python3.12/site-packages (from ucimlrepo) (2.2.3)\n",
      "Requirement already satisfied: certifi>=2020.12.5 in /home/zaenal/miniconda3/lib/python3.12/site-packages (from ucimlrepo) (2024.8.30)\n",
      "Requirement already satisfied: numpy>=1.26.0 in /home/zaenal/miniconda3/lib/python3.12/site-packages (from pandas>=1.0.0->ucimlrepo) (1.26.4)\n",
      "Requirement already satisfied: python-dateutil>=2.8.2 in /home/zaenal/miniconda3/lib/python3.12/site-packages (from pandas>=1.0.0->ucimlrepo) (2.9.0.post0)\n",
      "Requirement already satisfied: pytz>=2020.1 in /home/zaenal/miniconda3/lib/python3.12/site-packages (from pandas>=1.0.0->ucimlrepo) (2024.2)\n",
      "Requirement already satisfied: tzdata>=2022.7 in /home/zaenal/miniconda3/lib/python3.12/site-packages (from pandas>=1.0.0->ucimlrepo) (2024.2)\n",
      "Requirement already satisfied: six>=1.5 in /home/zaenal/miniconda3/lib/python3.12/site-packages (from python-dateutil>=2.8.2->pandas>=1.0.0->ucimlrepo) (1.17.0)\n",
      "Note: you may need to restart the kernel to use updated packages.\n"
     ]
    }
   ],
   "source": [
    "pip install ucimlrepo\n"
   ]
  },
  {
   "cell_type": "code",
   "execution_count": 11,
   "id": "10b50422-75a5-44eb-87d4-08a2971c0d28",
   "metadata": {},
   "outputs": [],
   "source": [
    "from ucimlrepo import fetch_ucirepo \n",
    "import modin.pandas as pd\n",
    "\n",
    "import modin.config as cfg\n",
    "cfg.Engine.put('ray')\n",
    "cfg.StorageFormat.put('pandas')"
   ]
  },
  {
   "cell_type": "code",
   "execution_count": 6,
   "id": "1080c4c6-26df-4986-b28d-fe940ef21556",
   "metadata": {},
   "outputs": [
    {
     "name": "stderr",
     "output_type": "stream",
     "text": [
      "2024-12-26 16:09:04,906\tINFO bigquery_datasource.py:68 -- Created streams: 1\n",
      "2024-12-26 16:09:04,907\tINFO bigquery_datasource.py:70 -- The number of streams created by the BigQuery Storage Read API is less than the requested parallelism due to the size of the dataset.\n"
     ]
    }
   ],
   "source": [
    "df = ray.data.read_bigquery(project_id = 'double-fusion-445405-r6',query = 'SELECT * FROM l1_tridorian.wholesale_customer')"
   ]
  },
  {
   "cell_type": "code",
   "execution_count": 8,
   "id": "33fe107c-9662-4092-98fd-f014002be9fb",
   "metadata": {},
   "outputs": [
    {
     "name": "stderr",
     "output_type": "stream",
     "text": [
      "2024-12-26 16:09:33,391\tINFO bigquery_datasource.py:68 -- Created streams: 1\n",
      "2024-12-26 16:09:33,394\tINFO bigquery_datasource.py:70 -- The number of streams created by the BigQuery Storage Read API is less than the requested parallelism due to the size of the dataset.\n",
      "2024-12-26 16:09:33,405\tINFO streaming_executor.py:108 -- Starting execution of Dataset. Full logs are in /tmp/ray/session_2024-12-25_17-21-23_032831_9010/logs/ray-data\n",
      "2024-12-26 16:09:33,407\tINFO streaming_executor.py:109 -- Execution plan of Dataset: InputDataBuffer[Input] -> TaskPoolMapOperator[ReadBigQuery]\n"
     ]
    },
    {
     "data": {
      "application/vnd.jupyter.widget-view+json": {
       "model_id": "c75187a5808e405294d7799673eaee57",
       "version_major": 2,
       "version_minor": 0
      },
      "text/plain": [
       "Running 0: 0.00 row [00:00, ? row/s]"
      ]
     },
     "metadata": {},
     "output_type": "display_data"
    },
    {
     "name": "stderr",
     "output_type": "stream",
     "text": [
      "2024-12-26 16:09:36,172\tINFO bigquery_datasource.py:68 -- Created streams: 1\n",
      "2024-12-26 16:09:36,173\tINFO bigquery_datasource.py:70 -- The number of streams created by the BigQuery Storage Read API is less than the requested parallelism due to the size of the dataset.\n"
     ]
    },
    {
     "data": {
      "application/vnd.jupyter.widget-view+json": {
       "model_id": "f26b9fd031904412bee249ff7673e74e",
       "version_major": 2,
       "version_minor": 0
      },
      "text/plain": [
       "- ReadBigQuery->SplitBlocks(200) 1: 0.00 row [00:00, ? row/s]"
      ]
     },
     "metadata": {},
     "output_type": "display_data"
    }
   ],
   "source": [
    "dfm = df.to_modin()"
   ]
  },
  {
   "cell_type": "code",
   "execution_count": 24,
   "id": "31cb832d-f7c5-497e-9f07-785faf0a5020",
   "metadata": {},
   "outputs": [
    {
     "data": {
      "text/html": [
       "<div>\n",
       "<style scoped>\n",
       "    .dataframe tbody tr th:only-of-type {\n",
       "        vertical-align: middle;\n",
       "    }\n",
       "\n",
       "    .dataframe tbody tr th {\n",
       "        vertical-align: top;\n",
       "    }\n",
       "\n",
       "    .dataframe thead th {\n",
       "        text-align: right;\n",
       "    }\n",
       "</style>\n",
       "<table border=\"1\" class=\"dataframe\">\n",
       "  <thead>\n",
       "    <tr style=\"text-align: right;\">\n",
       "      <th></th>\n",
       "      <th>Channel</th>\n",
       "      <th>Region</th>\n",
       "      <th>Fresh</th>\n",
       "      <th>Milk</th>\n",
       "      <th>Grocery</th>\n",
       "      <th>Frozen</th>\n",
       "      <th>Detergents_Paper</th>\n",
       "      <th>Delicassen</th>\n",
       "    </tr>\n",
       "  </thead>\n",
       "  <tbody>\n",
       "    <tr>\n",
       "      <th>0</th>\n",
       "      <td>1</td>\n",
       "      <td>0</td>\n",
       "      <td>30624</td>\n",
       "      <td>7209</td>\n",
       "      <td>4897</td>\n",
       "      <td>18711</td>\n",
       "      <td>763</td>\n",
       "      <td>2876</td>\n",
       "    </tr>\n",
       "    <tr>\n",
       "      <th>1</th>\n",
       "      <td>1</td>\n",
       "      <td>0</td>\n",
       "      <td>11686</td>\n",
       "      <td>2154</td>\n",
       "      <td>6824</td>\n",
       "      <td>3527</td>\n",
       "      <td>592</td>\n",
       "      <td>697</td>\n",
       "    </tr>\n",
       "    <tr>\n",
       "      <th>2</th>\n",
       "      <td>1</td>\n",
       "      <td>0</td>\n",
       "      <td>9670</td>\n",
       "      <td>2280</td>\n",
       "      <td>2112</td>\n",
       "      <td>520</td>\n",
       "      <td>402</td>\n",
       "      <td>347</td>\n",
       "    </tr>\n",
       "    <tr>\n",
       "      <th>0</th>\n",
       "      <td>1</td>\n",
       "      <td>0</td>\n",
       "      <td>25203</td>\n",
       "      <td>11487</td>\n",
       "      <td>9490</td>\n",
       "      <td>5065</td>\n",
       "      <td>284</td>\n",
       "      <td>6854</td>\n",
       "    </tr>\n",
       "    <tr>\n",
       "      <th>1</th>\n",
       "      <td>1</td>\n",
       "      <td>0</td>\n",
       "      <td>583</td>\n",
       "      <td>685</td>\n",
       "      <td>2216</td>\n",
       "      <td>469</td>\n",
       "      <td>954</td>\n",
       "      <td>18</td>\n",
       "    </tr>\n",
       "  </tbody>\n",
       "</table>\n",
       "</div>"
      ],
      "text/plain": [
       "   Channel  Region  Fresh   Milk  Grocery  Frozen  Detergents_Paper  \\\n",
       "0        1       0  30624   7209     4897   18711               763   \n",
       "1        1       0  11686   2154     6824    3527               592   \n",
       "2        1       0   9670   2280     2112     520               402   \n",
       "0        1       0  25203  11487     9490    5065               284   \n",
       "1        1       0    583    685     2216     469               954   \n",
       "\n",
       "   Delicassen  \n",
       "0        2876  \n",
       "1         697  \n",
       "2         347  \n",
       "0        6854  \n",
       "1          18  "
      ]
     },
     "execution_count": 24,
     "metadata": {},
     "output_type": "execute_result"
    }
   ],
   "source": [
    "## make the target is [0, 1, 2] instead of [1, 2, 3]\n",
    "dfm['Region'] = dfm['Region'] - 1\n",
    "\n",
    "dfm.head()\n"
   ]
  },
  {
   "cell_type": "code",
   "execution_count": 18,
   "id": "9716f7fb-8744-486f-a466-162299a22b87",
   "metadata": {},
   "outputs": [],
   "source": [
    "import sklearn.datasets\n",
    "import sklearn.metrics\n",
    "from sklearn.model_selection import train_test_split\n",
    "import xgboost as xgb\n",
    "from ray import train, tune\n",
    "\n",
    "#, test_x, train_y, test_y = "
   ]
  },
  {
   "cell_type": "code",
   "execution_count": 23,
   "id": "493bffee-17ad-42a6-b8b9-ec6098bfb9fa",
   "metadata": {},
   "outputs": [
    {
     "name": "stderr",
     "output_type": "stream",
     "text": [
      "UserWarning: `df.groupby(categorical_by, sort=False)` implementation has mismatches with pandas:\n",
      "the groupby keys will be sorted anyway, although the 'sort=False' was passed. See the following issue for more details: https://github.com/modin-project/modin/issues/3571.\n"
     ]
    },
    {
     "data": {
      "text/plain": [
       "Region\n",
       "3    238\n",
       "1     58\n",
       "2     34\n",
       "Name: count, dtype: int64"
      ]
     },
     "execution_count": 23,
     "metadata": {},
     "output_type": "execute_result"
    }
   ],
   "source": [
    "train_y.value_counts()"
   ]
  },
  {
   "cell_type": "code",
   "execution_count": 143,
   "id": "0a2fdb6a-2ef3-44df-a6c3-9db0d4b1089a",
   "metadata": {},
   "outputs": [
    {
     "data": {
      "text/html": [
       "<div class=\"tuneStatus\">\n",
       "  <div style=\"display: flex;flex-direction: row\">\n",
       "    <div style=\"display: flex;flex-direction: column;\">\n",
       "      <h3>Tune Status</h3>\n",
       "      <table>\n",
       "<tbody>\n",
       "<tr><td>Current time:</td><td>2024-12-26 17:39:18</td></tr>\n",
       "<tr><td>Running for: </td><td>00:01:17.05        </td></tr>\n",
       "<tr><td>Memory:      </td><td>3.3/3.8 GiB        </td></tr>\n",
       "</tbody>\n",
       "</table>\n",
       "    </div>\n",
       "    <div class=\"vDivider\"></div>\n",
       "    <div class=\"systemInfo\">\n",
       "      <h3>System Info</h3>\n",
       "      Using FIFO scheduling algorithm.<br>Logical resource usage: 1.0/2 CPUs, 0/0 GPUs\n",
       "    </div>\n",
       "    \n",
       "  </div>\n",
       "  <div class=\"hDivider\"></div>\n",
       "  <div class=\"trialStatus\">\n",
       "    <h3>Trial Status</h3>\n",
       "    <table>\n",
       "<thead>\n",
       "<tr><th>Trial name                          </th><th>status    </th><th>loc               </th><th style=\"text-align: right;\">        eta</th><th style=\"text-align: right;\">  max_depth</th><th style=\"text-align: right;\">  min_child_weight</th><th style=\"text-align: right;\">  n_estimators</th><th style=\"text-align: right;\">  subsample</th><th style=\"text-align: right;\">     acc</th><th style=\"text-align: right;\">  iter</th><th style=\"text-align: right;\">  total time (s)</th></tr>\n",
       "</thead>\n",
       "<tbody>\n",
       "<tr><td>train_wholesale_customer_272c3_00000</td><td>TERMINATED</td><td>10.128.0.31:168326</td><td style=\"text-align: right;\">0.00115843 </td><td style=\"text-align: right;\">          1</td><td style=\"text-align: right;\">                 1</td><td style=\"text-align: right;\">           348</td><td style=\"text-align: right;\">   0.649651</td><td style=\"text-align: right;\">0.666667</td><td style=\"text-align: right;\">     1</td><td style=\"text-align: right;\">       0.0289669</td></tr>\n",
       "<tr><td>train_wholesale_customer_272c3_00001</td><td>TERMINATED</td><td>10.128.0.31:168398</td><td style=\"text-align: right;\">0.0912862  </td><td style=\"text-align: right;\">          8</td><td style=\"text-align: right;\">                 2</td><td style=\"text-align: right;\">           850</td><td style=\"text-align: right;\">   0.616941</td><td style=\"text-align: right;\">0.67619 </td><td style=\"text-align: right;\">     1</td><td style=\"text-align: right;\">       0.053623 </td></tr>\n",
       "<tr><td>train_wholesale_customer_272c3_00002</td><td>TERMINATED</td><td>10.128.0.31:168472</td><td style=\"text-align: right;\">0.000923998</td><td style=\"text-align: right;\">          2</td><td style=\"text-align: right;\">                 2</td><td style=\"text-align: right;\">           274</td><td style=\"text-align: right;\">   0.836502</td><td style=\"text-align: right;\">0.666667</td><td style=\"text-align: right;\">     1</td><td style=\"text-align: right;\">       0.025681 </td></tr>\n",
       "<tr><td>train_wholesale_customer_272c3_00003</td><td>TERMINATED</td><td>10.128.0.31:168542</td><td style=\"text-align: right;\">0.000657557</td><td style=\"text-align: right;\">          7</td><td style=\"text-align: right;\">                 1</td><td style=\"text-align: right;\">           928</td><td style=\"text-align: right;\">   0.545199</td><td style=\"text-align: right;\">0.638095</td><td style=\"text-align: right;\">     1</td><td style=\"text-align: right;\">       0.0440795</td></tr>\n",
       "<tr><td>train_wholesale_customer_272c3_00004</td><td>TERMINATED</td><td>10.128.0.31:168611</td><td style=\"text-align: right;\">0.0147953  </td><td style=\"text-align: right;\">          1</td><td style=\"text-align: right;\">                 3</td><td style=\"text-align: right;\">           566</td><td style=\"text-align: right;\">   0.942713</td><td style=\"text-align: right;\">0.666667</td><td style=\"text-align: right;\">     1</td><td style=\"text-align: right;\">       0.0206537</td></tr>\n",
       "<tr><td>train_wholesale_customer_272c3_00005</td><td>TERMINATED</td><td>10.128.0.31:168680</td><td style=\"text-align: right;\">0.00069439 </td><td style=\"text-align: right;\">          5</td><td style=\"text-align: right;\">                 3</td><td style=\"text-align: right;\">           387</td><td style=\"text-align: right;\">   0.753718</td><td style=\"text-align: right;\">0.666667</td><td style=\"text-align: right;\">     1</td><td style=\"text-align: right;\">       0.0348542</td></tr>\n",
       "<tr><td>train_wholesale_customer_272c3_00006</td><td>TERMINATED</td><td>10.128.0.31:168753</td><td style=\"text-align: right;\">0.000251797</td><td style=\"text-align: right;\">          2</td><td style=\"text-align: right;\">                 1</td><td style=\"text-align: right;\">           852</td><td style=\"text-align: right;\">   0.635925</td><td style=\"text-align: right;\">0.666667</td><td style=\"text-align: right;\">     1</td><td style=\"text-align: right;\">       0.0391288</td></tr>\n",
       "<tr><td>train_wholesale_customer_272c3_00007</td><td>TERMINATED</td><td>10.128.0.31:168826</td><td style=\"text-align: right;\">0.000103557</td><td style=\"text-align: right;\">          3</td><td style=\"text-align: right;\">                 2</td><td style=\"text-align: right;\">           844</td><td style=\"text-align: right;\">   0.58131 </td><td style=\"text-align: right;\">0.666667</td><td style=\"text-align: right;\">     1</td><td style=\"text-align: right;\">       0.0280735</td></tr>\n",
       "<tr><td>train_wholesale_customer_272c3_00008</td><td>TERMINATED</td><td>10.128.0.31:168899</td><td style=\"text-align: right;\">0.00555157 </td><td style=\"text-align: right;\">          7</td><td style=\"text-align: right;\">                 2</td><td style=\"text-align: right;\">           811</td><td style=\"text-align: right;\">   0.629706</td><td style=\"text-align: right;\">0.657143</td><td style=\"text-align: right;\">     1</td><td style=\"text-align: right;\">       0.0466423</td></tr>\n",
       "<tr><td>train_wholesale_customer_272c3_00009</td><td>TERMINATED</td><td>10.128.0.31:168972</td><td style=\"text-align: right;\">0.00316481 </td><td style=\"text-align: right;\">          6</td><td style=\"text-align: right;\">                 3</td><td style=\"text-align: right;\">           735</td><td style=\"text-align: right;\">   0.717651</td><td style=\"text-align: right;\">0.657143</td><td style=\"text-align: right;\">     1</td><td style=\"text-align: right;\">       0.186342 </td></tr>\n",
       "</tbody>\n",
       "</table>\n",
       "  </div>\n",
       "</div>\n",
       "<style>\n",
       ".tuneStatus {\n",
       "  color: var(--jp-ui-font-color1);\n",
       "}\n",
       ".tuneStatus .systemInfo {\n",
       "  display: flex;\n",
       "  flex-direction: column;\n",
       "}\n",
       ".tuneStatus td {\n",
       "  white-space: nowrap;\n",
       "}\n",
       ".tuneStatus .trialStatus {\n",
       "  display: flex;\n",
       "  flex-direction: column;\n",
       "}\n",
       ".tuneStatus h3 {\n",
       "  font-weight: bold;\n",
       "}\n",
       ".tuneStatus .hDivider {\n",
       "  border-bottom-width: var(--jp-border-width);\n",
       "  border-bottom-color: var(--jp-border-color0);\n",
       "  border-bottom-style: solid;\n",
       "}\n",
       ".tuneStatus .vDivider {\n",
       "  border-left-width: var(--jp-border-width);\n",
       "  border-left-color: var(--jp-border-color0);\n",
       "  border-left-style: solid;\n",
       "  margin: 0.5em 1em 0.5em 1em;\n",
       "}\n",
       "</style>\n"
      ],
      "text/plain": [
       "<IPython.core.display.HTML object>"
      ]
     },
     "metadata": {},
     "output_type": "display_data"
    },
    {
     "name": "stderr",
     "output_type": "stream",
     "text": [
      "2024-12-26 17:39:18,127\tINFO tune.py:1009 -- Wrote the latest version of all result files and experiment state to '/home/zaenal/ray_results/train_wholesale_customer_2024-12-26_17-38-01' in 0.0182s.\n",
      "2024-12-26 17:39:18,149\tINFO tune.py:1041 -- Total run time: 77.10 seconds (77.03 seconds for the tuning loop).\n"
     ]
    }
   ],
   "source": [
    "from xgboost_ray import RayDMatrix, RayParams, predict\n",
    "\n",
    "\n",
    "def data_prep(df):\n",
    "    df = df.drop_duplicates()\n",
    "    train_x, test_x_1, train_y, test_y_1 = train_test_split(dfm.drop('Region', axis = 1), dfm['Region'], test_size=0.4)\n",
    "    valid_x, test_x, valid_y, test_y = train_test_split(test_x_1, test_y_1, test_size=0.4)\n",
    "    return (train_x,valid_x, test_x, train_y, valid_y, test_y)\n",
    "\n",
    "train_x,valid_x, test_x, train_y, valid_y, test_y = data_prep(dfm)\n",
    "\n",
    "def train_wholesale_customer(config):\n",
    "    # Load dataset\n",
    "    # Split into train and test set\n",
    "    # Build input matrices for XGBoost\n",
    "    train_set = xgb.DMatrix(train_x, label=train_y)\n",
    "    valid_set = xgb.DMatrix(valid_x, label=valid_y)\n",
    "    # Train the classifier\n",
    "    results = {}\n",
    "    xgb.train(\n",
    "        config,\n",
    "        train_set,\n",
    "        evals=[(valid_set, \"eval\")],\n",
    "        evals_result=results,\n",
    "        verbose_eval=False,\n",
    "    )\n",
    "    # Return prediction accuracy\n",
    "    accuracy = 1.0 - results[\"eval\"][\"merror\"][-1]\n",
    "    train.report({\"mean_accuracy\": accuracy, \"done\": True})\n",
    "\n",
    "config = {\n",
    "    \"objective\": \"multi:softmax\",\n",
    "    \"num_class\":3,\n",
    "    \"eval_metric\": [\"mlogloss\", \"merror\"],\n",
    "    \"max_depth\": tune.randint(1, 9),\n",
    "    \"n_estimators\" : tune.randint(100, 1000),\n",
    "    \"min_child_weight\": tune.choice([1, 2, 3]),\n",
    "    \"subsample\": tune.uniform(0.5, 1.0),\n",
    "    \"eta\": tune.loguniform(1e-4, 1e-1),\n",
    "}\n",
    "tuner = tune.Tuner(\n",
    "    train_wholesale_customer,\n",
    "    tune_config=tune.TuneConfig(num_samples=10),\n",
    "    param_space=config,\n",
    ")\n",
    "results = tuner.fit()"
   ]
  },
  {
   "cell_type": "code",
   "execution_count": 103,
   "id": "492d829c-9d1e-449e-b46e-57de45541645",
   "metadata": {},
   "outputs": [],
   "source": [
    "best_modl = results.get_best_result(metric = 'mean_accuracy', mode = 'max')"
   ]
  },
  {
   "cell_type": "code",
   "execution_count": 144,
   "id": "3e8bf9d5-1eab-4d61-be3e-8bea1beedb9a",
   "metadata": {},
   "outputs": [
    {
     "name": "stdout",
     "output_type": "stream",
     "text": [
      "[0]\teval-mlogloss:1.09846\teval-merror:0.36190\n",
      "[1]\teval-mlogloss:1.09833\teval-merror:0.33333\n",
      "[2]\teval-mlogloss:1.09820\teval-merror:0.33333\n",
      "[3]\teval-mlogloss:1.09805\teval-merror:0.33333\n",
      "[4]\teval-mlogloss:1.09791\teval-merror:0.33333\n",
      "[5]\teval-mlogloss:1.09777\teval-merror:0.33333\n",
      "[6]\teval-mlogloss:1.09765\teval-merror:0.33333\n",
      "[7]\teval-mlogloss:1.09750\teval-merror:0.33333\n",
      "[8]\teval-mlogloss:1.09736\teval-merror:0.33333\n",
      "[9]\teval-mlogloss:1.09721\teval-merror:0.33333\n"
     ]
    }
   ],
   "source": [
    "train_set = xgb.DMatrix(train_x, label=train_y)\n",
    "valid_set = xgb.DMatrix(valid_x, label=valid_y)\n",
    "clf = xgb.train(\n",
    "    best_modl.config,\n",
    "    train_set,\n",
    "    evals=[(valid_set, \"eval\")],\n",
    "    verbose_eval=True,\n",
    ")"
   ]
  },
  {
   "cell_type": "code",
   "execution_count": null,
   "id": "72c690a8-735b-4eba-aa0e-76e8838f6d1f",
   "metadata": {},
   "outputs": [],
   "source": [
    "## Save the best model"
   ]
  },
  {
   "cell_type": "code",
   "execution_count": 145,
   "id": "baabe558-e923-40cc-b022-507e83f37dcf",
   "metadata": {},
   "outputs": [
    {
     "name": "stderr",
     "output_type": "stream",
     "text": [
      "UserWarning: [17:39:26] WARNING: /workspace/src/c_api/c_api.cc:1374: Saving model in the UBJSON format as default.  You can use file extension: `json`, `ubj` or `deprecated` to choose between formats.\n"
     ]
    }
   ],
   "source": [
    "clf.save_model(\"model_wholesale_customer.xgb\")"
   ]
  },
  {
   "cell_type": "code",
   "execution_count": null,
   "id": "314bb24b-630b-4266-b989-eda0c22f0fa5",
   "metadata": {},
   "outputs": [],
   "source": [
    "### Check on the testing a"
   ]
  },
  {
   "cell_type": "code",
   "execution_count": 174,
   "id": "b93cb6f0-7198-4cb8-b9a7-59e7287db353",
   "metadata": {},
   "outputs": [
    {
     "data": {
      "text/plain": [
       "0.676056338028169"
      ]
     },
     "execution_count": 174,
     "metadata": {},
     "output_type": "execute_result"
    }
   ],
   "source": [
    "\n",
    "data = xgb.DMatrix(test_x)\n",
    "\n",
    "bst = xgb.Booster(model_file=\"model.xgb\")\n",
    "(test_y == bst.predict(data)).sum()/test_x.shape[0]"
   ]
  },
  {
   "cell_type": "code",
   "execution_count": null,
   "id": "a36ce4db-b086-4784-a484-bcf7a7d9b646",
   "metadata": {},
   "outputs": [],
   "source": []
  }
 ],
 "metadata": {
  "kernelspec": {
   "display_name": "Python 3 (ipykernel)",
   "language": "python",
   "name": "python3"
  },
  "language_info": {
   "codemirror_mode": {
    "name": "ipython",
    "version": 3
   },
   "file_extension": ".py",
   "mimetype": "text/x-python",
   "name": "python",
   "nbconvert_exporter": "python",
   "pygments_lexer": "ipython3",
   "version": "3.12.8"
  }
 },
 "nbformat": 4,
 "nbformat_minor": 5
}
